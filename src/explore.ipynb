{
    "cells": [
        {
            "cell_type": "code",
            "execution_count": null,
            "metadata": {},
            "outputs": [],
            "source": [
                "# Your code hereimport zipfile\n",
                "import os\n",
                "import pandas as pd\n",
                "\n",
                "# Ruta del archivo descargado\n",
                "download_path = '/Users/cesar_v8v3xol/Downloads/archive.zip'\n",
                "\n",
                "# Directorio donde se descomprimirá el archivo\n",
                "extract_path = '/Users/cesar_v8v3xol/Downloads'\n",
                "\n",
                "# Descomprimir el archivo\n",
                "with zipfile.ZipFile(download_path, 'r') as zip_ref:\n",
                "    zip_ref.extractall(extract_path)\n",
                "\n",
                "# Listar los archivos descomprimidos\n",
                "extracted_files = os.listdir(extract_path)\n",
                "\n",
                "# Buscar el archivo CSV descomprimido (debes asegurarte de que solo haya un archivo CSV)\n",
                "csv_file = [file for file in extracted_files if file.endswith('.csv')][0]\n",
                "\n",
                "# Ruta completa al archivo CSV\n",
                "csv_path = os.path.join(extract_path, csv_file)\n",
                "\n",
                "# Leer el archivo CSV utilizando pandas\n",
                "df = pd.read_csv(csv_path)\n",
                "\n",
                "# Mostrar las primeras 10 líneas del DataFrame\n",
                "print(df.head(10))"
            ]
        }
    ],
    "metadata": {
        "kernelspec": {
            "display_name": "Python 3.8.13 64-bit ('3.8.13')",
            "language": "python",
            "name": "python3"
        },
        "language_info": {
            "codemirror_mode": {
                "name": "ipython",
                "version": 3
            },
            "file_extension": ".py",
            "mimetype": "text/x-python",
            "name": "python",
            "nbconvert_exporter": "python",
            "pygments_lexer": "ipython3",
            "version": "3.8.13"
        },
        "orig_nbformat": 4,
        "vscode": {
            "interpreter": {
                "hash": "110cc1dee26208153f2972f08a2ad52b6a56238dc66d48e87fb757ef2996db56"
            }
        }
    },
    "nbformat": 4,
    "nbformat_minor": 2
}
